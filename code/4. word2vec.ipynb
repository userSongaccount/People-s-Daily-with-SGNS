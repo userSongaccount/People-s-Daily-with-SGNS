{
 "cells": [
  {
   "cell_type": "markdown",
   "metadata": {},
   "source": [
    "# 1. load data and pre-process"
   ]
  },
  {
   "cell_type": "code",
   "execution_count": null,
   "metadata": {},
   "outputs": [],
   "source": [
    "# word2vec implementation\n",
    "from gensim.models import Word2Vec\n",
    "import gensim.downloader as api\n",
    "\n",
    "# scikit-learn relevant classes\n",
    "from sklearn.preprocessing import StandardScaler\n",
    "from sklearn.decomposition import PCA\n",
    "from sklearn.manifold import TSNE\n",
    "from sklearn.cluster import KMeans\n"
   ]
  },
  {
   "cell_type": "code",
   "execution_count": 1,
   "metadata": {},
   "outputs": [],
   "source": [
    "import pandas as pd\n",
    "c1 = pd.read_csv(\"D:\\\\CODE\\\\data set for QTA\\\\c1_tokens.csv\")"
   ]
  },
  {
   "cell_type": "code",
   "execution_count": 2,
   "metadata": {},
   "outputs": [
    {
     "name": "stdout",
     "output_type": "stream",
     "text": [
      "                                              tokens\n",
      "0  国民党, 当局, 破坏, 荷泽, 协议, 蓄意, 放, 水淹, 我, 解放区, 不顾, 七百...\n",
      "1  平, 汉川, 陕道, 上, 国民党, 军运忙, 新华社, 邯郸, 九日, 电, 平汉路, 上...\n",
      "(268232, 1)\n"
     ]
    }
   ],
   "source": [
    "print(c1.head(2))\n",
    "print(c1.shape)\n"
   ]
  },
  {
   "cell_type": "code",
   "execution_count": 1,
   "metadata": {},
   "outputs": [
    {
     "name": "stdout",
     "output_type": "stream",
     "text": [
      "                                              tokens\n",
      "0  社论, 满怀信心, 迎接, 九十年代, 伴随, 着, 年, 第一记, 钟声, 二十世纪, 九...\n",
      "1  江泽民, 总书记, 新年, 前夕, 接受, 记者, 采访, 谈, 国内外, 形势, 中国, ...\n",
      "(217918, 1)\n"
     ]
    }
   ],
   "source": [
    "import pandas as pd\n",
    "c3 = pd.read_csv(\"D:\\\\CODE\\\\data set for QTA\\\\c3_tokens.csv\")\n",
    "\n",
    "print(c3.head(2))\n",
    "print(c3.shape)"
   ]
  },
  {
   "cell_type": "code",
   "execution_count": 2,
   "metadata": {},
   "outputs": [],
   "source": [
    "import pandas as pd\n",
    "c2 = pd.read_csv(\"D:\\\\CODE\\\\data set for QTA\\\\c2_tokens.csv\")"
   ]
  },
  {
   "cell_type": "code",
   "execution_count": 3,
   "metadata": {},
   "outputs": [
    {
     "name": "stdout",
     "output_type": "stream",
     "text": [
      "                                              tokens\n",
      "0  乘胜前进, 人民日报, 红旗, 杂志, 解放军报, 一九七七年, 元旦, 社论, 全国, 人...\n",
      "1  毛泽东, 论, 十大, 关系, 马克思主义, 列宁主义, 毛泽东思想, 万岁, 我们, 一定...\n",
      "(217603, 1)\n"
     ]
    }
   ],
   "source": [
    "print(c2.head(2))\n",
    "print(c2.shape)"
   ]
  },
  {
   "cell_type": "markdown",
   "metadata": {},
   "source": [
    "*Due to re-loading saved data, the formats of tokened data need to re-process again.*"
   ]
  },
  {
   "cell_type": "code",
   "execution_count": 2,
   "metadata": {},
   "outputs": [
    {
     "name": "stdout",
     "output_type": "stream",
     "text": [
      "['国民党', '当局', '破坏', '荷泽', '协议', '蓄意', '放', '水淹', '我', '解放区', '不顾', '七百万', '人民', '生命', '图逞', '内战', '阴谋', '中共中央', '发言人', '表示', '坚决', '反对', '新华社', '延安', '十日', '电', '记者', '顷以', '国民党', '当局', '破坏', '荷泽', '治河', '协议', '阴谋', '淹毙', '黄河', '故道', '豫', '冀鲁', '三省', '七百万', '同胞', '事', '访问', '中共中央', '发言人', '发言人', '谈话', '如', '次', '问', '黄河', '问题', '的', '经过', '如何', '答', '黄河', '原经', '豫北', '冀南', '斜贯', '山东', '至', '利津入', '海', '民国', '二十七年', '夏', '始由', '国民党', '当局', '派', '军队', '在', '河南', '郑州', '开封', '间', '中牟县', '境', '之', '花园口', '实行', '决堤', '图', '以此', '阻止', '敌人', '的', '进攻', '自此', '黄河', '乃', '由', '花园口', '东南', '流至豫皖', '边', '入', '淮河', '转', '运河', '长江', '入海', '黄河', '决口', '的', '结果', '有百害而无一利', '加以', '国民党', '当局', '事前', '对', '人民', '保守', '秘密', '致', '黄河', '所经', '之', '地', '无数', '同胞', '之生', '命', '财产', '惨遭', '损失', '为', '抗战史', '中', '极', '惨痛', '之', '一页', '而', '淮河', '运河', '的', '水道', '亦', '因而', '遭受', '影响', '河床', '有', '逐年', '淤浅', '之虞', '现', '抗战', '结束', '以', '充分', '人力物力', '与', '友邦', '援助', '疏导', '黄河', '使', '复归', '故道', '原则上', '是', '可行', '的', '虽然', '这', '对', '冀鲁豫', '与', '山东', '解放区', '人民', '会', '带来', '一些', '灾难', '但', '为了', '更', '多数', '人民', '的', '利益', '冀鲁豫', '与', '山东', '解放区', '人民', '及', '中共', '是', '赞成', '此举', '并愿', '积极', '参加', '此', '项', '工作', '的', '然而', '黄河', '下游', '的', '故道', '素有', '很多', '积弊', '经', '改道', '八年', '后', '河床', '竟', '高出', '地面', '一丈', '以上', '势如', '屋脊', '其上', '新建', '之', '村镇', '已达', '一千七百', '个', '故', '所谓', '河道', '早已', '名存实亡', '全岸', '二千余', '里', '的', '旧', '堤坝', '现亦已', '破败', '不堪', '入鲁后', '北岸', '濮县', '至寿张', '之段', '败坏', '特', '甚', '济南', '以东', '更', '多', '险工', '亟待', '修补', '此项', '工程', '甚为', '浩大', '决非', '几个', '月', '所能', '办到', '者', '我解', '放区经', '八年', '抗战', '三年', '灾荒', '更', '决无', '独立', '完成', '此项', '工程', '之', '可能', '如', '有意', '置', '上述', '问题', '于', '不顾', '限期', '将', '花园口', '之新道', '堵塞', '则', '黄水', '横流', '之', '惨祸', '必较', '八年', '前', '之', '覆辙', '尤为', '不堪设想', '与', '不可', '宽恕', '今年', '三月', '我', '晋冀鲁豫', '边区', '政府', '鉴于', '豫', '冀鲁', '三省', '民命', '所关', '特派', '代表', '贾心', '斋', '赵明甫', '前往', '开封', '与', '国民党', '政府', '主管机关', '研究', '妥善', '办法', '并', '与', '黄河水利委员会', '委', '员长', '赵守钰氏', '亲赴', '黄河', '故道', '两岸', '勘察', '目睹', '上述', '实情', '因于', '四月', '十五日', '在', '鲁西南', '荷泽市', '共同', '成立', '协议', '要点', '如下', '故道', '先行', '浚', '河复堤', '然后', '再', '在', '花园口', '实行', '堵口', '放水', '河道', '内', '村镇', '之', '迁移费', '已', '确定', '概算', '标准', '由', '黄河水利委员会', '转呈', '国民政府', '行政院', '拨发', '施工', '机构', '由', '双方', '派', '人', '合组', '逐步', '修复', '有关', '之', '交通', '但', '保证', '不作军', '用', '黄河水利委员会', '及', '公正', '专家', '均', '同意', '此种', '合乎情理', '的', '办法', '并', '决定', '在', '两年', '内赶', '完进', '黄归故', '的', '工作', '乃', '国民党', '某些', '当局', '却', '不顾', '这一', '公平合理', '的', '协定', '迫令', '该会', '于', '两个', '月', '内', '完成', '花园口', '堵口', '工程', '对于', '故道', '善后', '则', '提出', '旧堤', '加高', '五', '公寸', '的', '搪塞', '敷衍', '办法', '因此', '荷泽', '协定', '迄今', '未付', '执行', '而', '花园口', '堵口', '工程', '反已', '积极', '进行', '据', '晋冀鲁豫', '边区', '政府', '代', '表赵', '明甫', '亲往', '花园口', '视察', '发现', '全长', '一千五百', '公尺', '之', '决口', '东西', '两端', '土', '工业', '已', '完成', '只', '剩', '宽', '五百', '公尺', '之', '水流', '国民党', '当局', '现正', '动员', '民夫', '一万七千', '人', '卡车', '二十二', '辆', '并', '修好', '轻便', '铁道', '运输', '器材', '以便', '赶于', '最', '短期内', '实行', '合龙', '放水', '东流', '使', '冀南', '与', '山东', '大部', '化为', '泽国', '此外', '又', '闻', '国民党', '内', '某些', '人物', '还', '打算', '在', '豫北', '武陟', '地方', '导', '通水', '入卫河', '使于', '鲁西', '北会', '运河', '北流', '至', '河北', '入海', '则', '卫河', '运河', '沿岸', '平原', '更', '将', '全部', '淹没', '问', '中共', '对', '这个', '问题', '的', '意见', '如向', '答', '中共', '认为', '荷泽', '协定', '中先浚', '河复', '堤', '后', '堵口', '放水', '的', '原则', '完全', '公正', '合理', '切实', '易行', '且', '已', '得到', '很多', '负责', '治河', '人士', '的', '赞许', '实在', '没有', '任何理由', '加以', '反对', '中共', '希望', '国民党', '当局', '能够', '信守', '这一', '协定', '迅速', '帮助', '冀鲁豫', '与', '山东', '解放', '区浚', '河复堤', '与', '迁徙', '黄河', '故道', '七', '余万', '居民', '使', '黄河', '归故', '工程', '得以', '顺利完成', '在', '这', '一方面', '中共', '与', '解放区', '人民', '必将', '充分', '协力', '合作', '但是', '现在', '国民党', '某些', '当局', '却', '毫无', '理由', '地', '违反', '先浚', '河复', '堤', '后', '堵口', '对', '迁徙', '救济', '故道', '居民', '不负', '任何', '责任', '并', '坚持', '两个', '月', '内', '先', '在', '花园口', '实行', '合龙', '放水', '那么', '中共', '不能不', '认为', '这', '是', '借', '治河', '为名', '蓄意', '淹毙', '豫', '冀鲁', '三省', '同胞', '而', '这', '是', '与', '当前', '全国', '反动派', '的', '内战', '阴谋', '分不开', '的', '中共', '对', '千千万万', '人民', '生死存亡', '决不能', '熟视无睹', '对于', '国民党', '反动派', '以', '千百万', '人民', '的', '生命财产', '为', '牺牲品', '的', '恶毒', '计划', '不能不', '表示', '坚决', '的', '反对', '现在', '晋冀鲁豫', '边区', '政府', '代表', '已', '向', '开封', '国民党', '当局', '提出抗议', '中共', '驻', '南京', '的', '代表', '亦', '将', '向', '有关', '当局', '提出', '同一', '抗议', '要求', '制止', '这一', '阴谋', '的', '实现', '并', '声明', '如果', '国民党', '当局', '一意孤行', '不顾', '民命', '则', '适当其冲', '的', '冀鲁豫', '解放区', '人民', '为了', '生存', '将', '被迫', '采取', '必要', '的', '自卫', '措施', '其', '后果', '应由', '国民党', '当局', '负其', '全责', '我们', '希望', '国内外', '各方', '人士', '尤其', '是', '有关', '人士', '能够', '主持人', '道', '正义', '在', '改道', '浚', '河复', '堤', '与', '居民', '迁徙', '救济', '工作', '完毕', '以前', '努力', '制止', '花园口', '堵口', '工程', '以', '挽救', '冀鲁豫', '沿河', '数百万', '乃至', '数千万', '人民', '免于', '死亡', '平', '汉川', '陕道', '上', '国民党', '军运忙', '第', '版']\n"
     ]
    }
   ],
   "source": [
    "# go through each row and split the tokens by comma\n",
    "c1t = [t.split(\", \") for t in c1['tokens']] \n",
    "print(c1t[0])"
   ]
  },
  {
   "cell_type": "code",
   "execution_count": 4,
   "metadata": {},
   "outputs": [
    {
     "name": "stdout",
     "output_type": "stream",
     "text": [
      "['乘胜前进', '人民日报', '红旗', '杂志', '解放军报', '一九七七年', '元旦', '社论', '全国', '人民', '在', '深入', '揭批', '四人帮', '的', '战斗', '中', '满怀', '胜利', '的', '豪情', '喜气洋洋', '地', '迎来', '了', '新', '的', '一年', '一九七六年', '是', '极', '不', '平凡', '的', '一年', '是', '我们', '取得', '了', '伟大', '的', '历史性', '胜利', '的', '一年', '这', '一年', '我们', '失去', '了', '伟大', '的', '领袖', '和', '导师', '毛泽东', '主席', '失去', '了', '敬爱', '的', '周恩来', '总理', '和', '朱德', '委员长', '我们', '遭受', '了', '地震', '等', '严重', '的', '自然灾害', '在', '我们', '党', '面临', '巨大', '困难', '的', '情况', '下', '华国锋', '同志', '为首', '的', '党中央', '领导', '我们', '一举', '粉碎', '了', '王张', '江姚', '反党集团', '篡党夺权', '的', '阴谋', '经过', '这场', '惊心动魄', '的', '阶级', '大', '搏斗', '中国', '革命', '避免', '了', '一次', '大', '曲折', '中国', '历史', '避免', '了', '一次', '大', '倒退', '中国', '人民', '避免', '了', '一场', '大灾难', '我们', '的', '胜利', '是', '毛泽东思想', '的', '伟大', '胜', '利', '是', '毛主席', '的', '无产阶级', '革命', '路线', '的', '伟大胜利', '全党全军', '全国', '各族人民', '为', '我们', '又', '有', '了', '自己', '的', '英明领袖', '华国锋', '主席', '感到', '幸福', '和', '自豪', '除掉', '四害', '人民', '大', '解放', '思想', '大', '解放', '生产力', '大', '解放', '祖国', '大地', '光辉灿烂', '欣欣向荣', '粉碎', '四人帮', '伟大胜利', '的', '深远影响', '正在', '越来越', '充分', '地', '显示', '出来', '马克思主义', '的', '理论', '和', '我国', '革命', '的', '历史', '经验', '告诉', '我们', '无产阶级', '政党', '必须', '有', '自己', '的', '杰出', '领袖', '才能', '把', '党', '阶级', '和', '全体', '人民', '的', '意志', '和', '力量', '统一', '起来', '克服', '重重', '艰难险阻', '夺取', '政权', '巩固政权', '进行', '胜利', '的', '斗争', '过去', '我们', '党', '经历', '了', '十次', '路线斗争', '在', '革命', '处于', '危急存亡', '的', '紧要关头', '都', '是', '毛主席', '领导', '我们', '克服', '了', '危机', '战胜', '了', '分裂', '使', '革命', '的', '航船', '转危为安', '破浪前进', '毛主席', '逝世', '以后', '在', '党', '和', '国家', '面临', '变修', '变色', '万分', '危险', '的', '关键时刻', '华国锋', '同志', '领导', '我们', '党', '力挽狂澜', '粉碎', '四人帮', '胜利', '地', '进行', '了', '又', '一次', '大', '的', '路线斗争', '在', '这场', '伟大', '的', '斗争', '中', '华国锋', '主席', '受到', '全党全军', '全国', '各族人民', '的', '拥护', '和', '爱戴', '确立', '了', '华国锋', '主席', '在', '全党', '的', '领导', '地位', '这', '对于', '继承', '毛主席', '的', '遗志', '坚持', '毛主席', '的', '革命', '路线', '把', '伟大领袖', '毛主席', '和', '敬爱', '的', '周总理', '以及', '老一', '辈', '的', '革命家', '开创', '的', '无产阶级', '革命', '事业', '进行', '到底', '是', '最', '可靠', '的', '保证', '全国', '人民', '和', '全世界', '革命', '人民', '高兴', '地', '看到', '有', '战无不胜', '的', '马克思主义', '列宁主义', '毛泽东思想', '的', '指引', '有华', '主席', '这样', '英明', '的', '领袖', '有', '最', '紧密', '地', '团结', '在', '华', '主席', '党中央', '周围', '的', '广大党员', '人民军队', '和', '人民', '群众', '我们', '的', '党', '大有希望', '我们', '的', '国家', '大有希望', '最近', '中央', '决定', '发表', '了', '毛主席', '的', '光辉', '著作', '论', '十大', '关系', '毛主席', '这一', '重要著作', '捍卫', '和', '发展', '了', '马克思主义', '的', '哲学', '政治经济学', '和', '科学', '社会主义', '是', '一个', '伟大', '的', '历史文献', '毛主席', '说', '我们', '一定', '要', '努力', '把', '党内', '党外', '国内', '国外', '的', '一切', '积极', '的', '因素', '直接', '的', '间接', '的', '积极因素', '全部', '调动', '起来', '把', '我国', '建设', '成为', '一个', '强大', '的', '社会主义', '国家', '这是', '我们', '各项', '工作', '都', '必须', '遵循', '的', '基本方针', '在', '刚刚', '闭幕', '的', '第二次', '全国', '农业学大', '寨', '会议', '上', '华', '主席', '作', '了', '重要讲话', '总结', '了', '我们', '同', '四人帮', '的', '斗争', '阐明', '和', '捍卫', '了', '毛主席', '关于', '无产阶级', '专政', '下', '继续', '革命', '的', '伟大', '理论', '根据', '毛主席', '关于', '天下大乱', '达到', '天下大治', '的', '思想', '华', '主席', '作出', '了', '在', '两个', '阶级', '的', '激烈', '斗争', '中', '实现', '安定团结', '巩固', '无产阶级', '专政', '达到', '天下大治', '的', '战略', '决策', '提出', '在', '新', '的', '一年', '里', '要', '深入开展', '揭发', '批判', '四人帮', '的', '伟大', '群众运动', '加强', '党的建设', '在', '全党', '进行', '一次', '马克思主义', '的', '思想', '教育', '运动', '深入开展', '农业学大', '寨', '工业', '学大庆', '的', '群众运动', '努力', '把', '国民经济', '搞上去', '进一步', '把', '群众性', '的', '学习', '马列著作', '和', '毛主席', '著作', '的', '运动', '推向', '新', '的', '高潮', '这是', '大治', '天下', '的', '四项', '战斗任务', '对', '毛主席', '的', '论', '十大', '关系', '和', '华', '主席', '的', '重要讲话', '全党全军', '全国', '各族人民', '都', '必须', '努力学习', '好', '宣传', '好', '贯彻执行', '好', '华', '主席', '号召', '我们', '在', '新', '的', '一年', '里', '抓住', '阶级斗争', '这个', '纲', '努力', '作战', '去', '夺取', '更大', '的', '胜利', '深入', '揭发', '批判', '四人帮', '是', '我们', '全年', '的', '中心', '任务', '四人帮', '彻底', '背叛', '要', '搞', '马克思主义', '不要', '搞', '修正主义', '要', '团结', '不要', '分裂', '要', '光明正大', '不要', '搞', '阴谋诡计', '三项', '基本', '原则', '妄图', '篡夺', '党和国家', '的', '最高', '领导权', '我们', '同', '他们', '的', '矛盾', '是', '敌我矛盾', '我们', '同', '他们', '的', '斗争', '是', '两个', '阶级', '的', '生死', '斗争', '对', '这伙', '反革命', '黑帮', '决不能', '心慈手软', '从', '政治', '上', '思想', '上', '组织', '上', '把', '他们', '揭深', '批透', '肃清', '其', '流毒', '和', '影响', '还要', '做', '许多', '艰苦', '细致', '的', '工作', '华', '主席', '说', '工', '农', '商', '学', '兵', '政', '党', '各条战线', '都', '要', '以', '毛主', '席', '制定', '的', '党的基本', '路线', '为', '指导', '通过', '切实', '的', '调查', '研究', '总结', '历史', '的', '和', '无产阶级', '文化大革命', '以来', '的', '正反', '两个', '方面', '的', '经验', '弄清楚', '自己', '战线', '的', '具体', '的', '工作', '路线', '具体', '的', '方针', '政策', '和', '方法', '并且', '在实践中', '不断', '地', '加以改进', '和', '完善', '使', '各条战线', '的', '工作', '沿着', '毛主席', '的', '革命', '路线', '更快', '地', '前进', '要', '切实', '做到', '这', '一点', '更', '需要', '下功夫', '花', '气力', '我们', '要', '充分', '发动', '群', '众', '团结', '一切', '可以', '团结', '的', '力量', '把', '这场', '政治', '大革命', '进行', '到底', '阶级斗争', '是', '推动', '社会', '前进', '的', '动力', '把', '四人帮', '揭深', '批透', '把', '思想', '政治路线', '搞清楚', '把', '各', '方面', '的', '积极因素', '调动', '起来', '我们', '的', '各项', '工作', '就', '一定', '能够', '搞', '得', '更好', '当前', '在', '华', '主席', '为首', '的', '党中央', '领导', '下', '上下', '一条心', '全国', '一股劲', '一个', '社会主义', '革命', '和', '社会主义', '建设', '的', '新高潮', '正在', '蓬', '勃兴', '起', '形势', '的', '发展', '越来越', '好', '而且', '将会', '比', '人们', '预料', '的', '更', '快', '更好', '我们', '要', '认真学习', '马列著作', '和', '毛主席', '著作', '努力', '掌握', '辩证唯物论', '和', '历史唯物论', '反对', '唯心论', '和', '形而上学', '要', '加强', '党', '的', '集中统一', '领导', '加强', '党', '的', '思想', '建设', '和', '组织', '建设', '使', '各级', '党组织', '都', '能', '充分发挥', '无产阶级', '先锋队', '的', '战斗', '作用', '要', '全心全意', '依靠', '工人阶级', '贫下中农', '团结', '其他', '劳动', '群众', '和', '广大', '知识分子', '进一步', '发展', '工人阶级', '领导', '的', '以', '工农联盟', '为', '基础', '的', '包括', '爱国', '民主党派', '爱国人士', '爱国侨胞', '和', '港澳同胞', '的', '革命', '统一战线', '巩固', '和', '加强', '无产阶级', '专政', '保卫', '和', '发展', '文化大革命', '的', '胜利果实', '扶植', '和', '壮大', '社会主义', '新生事物', '农业', '工业', '和', '各条战线', '的', '同志', '都', '要', '树', '雄心', '立', '壮志', '脚踏实地', '大干', '社会主义', '要', '加强', '军队', '建设', '和', '民兵', '建设', '坚持', '全国', '学', '人民解放军', '解放军', '学', '全国', '人民', '做好', '拥政爱民', '和', '拥军优属', '工作', '密切', '军政', '团结', '和', '军民团结', '我们', '相信', '经过', '全党全军', '全国', '各族人民', '的', '共同奋斗', '我国', '的', '社会主义', '革命', '和', '社会主义', '建设', '将', '取得', '一个', '又', '一个', '新', '胜利', '我们', '一定', '能够', '造成', '一个', '政治', '上', '生动活泼', '经济', '上', '繁荣昌盛', '科学', '文化', '百家争鸣', '百花齐放', '人民', '生活', '在', '生产', '发展', '的', '基础', '上', '不断', '改善', '的', '崭新', '局面', '我们', '一定', '能够', '在', '本世纪内', '全面实现', '农业', '工业', '国防', '和', '科学技术', '现代化', '把', '我国', '建设', '成为', '强大', '的', '社会主义', '国家', '的', '宏伟目标', '在', '欢度', '新年', '的', '时候', '我们', '对', '台湾省', '的', '骨肉同胞', '表示', '深切', '的', '关怀', '我们', '一定', '要', '完成', '解放', '台湾', '统一祖国', '的', '神圣', '事业', '我们', '将', '坚定不移', '地', '继续', '贯彻执行', '毛主席', '亲自', '制定', '的', '革命', '外交', '路', '线', '和', '政策', '坚持', '无产阶级', '国际主义', '加强', '同', '国际', '无产阶级', '全世界', '被压迫', '民族', '和', '被压迫', '人民', '的', '团结', '加强', '同', '第三世界', '各国', '的', '团结', '联合', '一切', '受', '帝国主义', '社会', '帝国主义', '侵略', '颠覆', '干涉', '控制', '和', '欺负', '的', '国家', '反对', '苏美', '两个', '超级大国', '的', '霸权主义', '让', '我们', '高举', '马克思主义', '列宁主义', '毛泽东思想', '伟大', '红旗', '在', '华', '主席', '为首', '的', '党中央', '领导', '下', '团结', '战斗', '乘胜前进', '毛泽东', '论', '十大', '关系', '第', '版']\n"
     ]
    }
   ],
   "source": [
    "c2t = [t.split(\", \") for t in c2['tokens']] \n",
    "print(c2t[0])\n"
   ]
  },
  {
   "cell_type": "code",
   "execution_count": 2,
   "metadata": {},
   "outputs": [
    {
     "name": "stdout",
     "output_type": "stream",
     "text": [
      "object\n",
      "['社论', '满怀信心', '迎接', '九十年代', '伴随', '着', '年', '第一记', '钟声', '二十世纪', '九十年代', '来到', '了', '回顾过去', '十年', '的', '征程', '展望未来', '十年', '的', '前景', '我们', '满怀豪情', '充满信心', '刚刚', '过去', '的', '八十年代', '是', '我国', '各族人民', '在', '中国共产党', '的', '领导', '下', '沿着', '社会主义', '道路', '胜利', '前进', '的', '年代', '是', '社会主义', '建设', '事业', '和', '社会主义', '改革', '事业', '取得', '辉煌成就', '的', '年代', '是', '社会主义', '在', '中国', '大', '地上', '生机勃勃', '显示', '了', '强大', '生命力', '的', '年代', '在', '八十年代', '我们', '以', '经济', '建设', '为', '中心', '坚持', '四项', '基本', '原则', '坚持', '改革开放', '社会主义', '现代化', '建设', '取得', '了', '举世瞩目', '的', '成就', '国民经济', '迅速', '增长', '国民', '生产总值', '翻了一番', '已经', '上升', '到', '居', '世界', '第', '位', '教育', '科学', '文化', '事业', '和', '国防建设', '都', '取得', '了', '巨大', '成绩', '综合国力', '显著', '增强', '人民', '生活', '明显改善', '在', '八十年代', '我们', '坚持', '四项', '基本', '原则', '党的领导', '更加', '坚强', '社会主义', '制度', '更加', '巩固', '经过', '一次', '又', '一次', '的', '斗争', '特别', '是', '去年', '春', '夏之交', '制止动乱', '和', '平息', '反革命', '暴乱', '的', '斗争', '击退', '了', '资产阶级', '自由化', '的', '进攻', '粉碎', '了', '国外', '敌对势力', '和平演变', '的', '阴谋', '只有', '社会主义', '才能救', '中国', '只有', '社会主义', '才能', '发展', '中国', '中国', '将', '始终如一', '坚持', '社会主义', '道路', '已经', '成为', '全国', '各族人民', '共同', '的', '坚定信念', '在', '八十年代', '我们', '坚持', '改革开放', '的', '总方针', '探索', '社会主义', '制度', '自我完善', '自我', '发展', '的', '道路', '从', '经济基础', '到', '上层建筑', '都', '进行', '了', '一系列', '重大', '的', '改革', '进一步', '解放', '了', '生产力', '使', '亿万', '工人', '农民', '知识分子', '的', '积极性', '创造性', '更好', '地', '发挥', '出来', '推进', '了', '社会主义', '有', '计划', '商', '品', '经济', '的', '发展', '促进', '了', '社会主义', '民主', '和', '社会主义', '法制建设', '在', '坚持', '独立自主', '自力更生', '方针', '的', '前提', '下', '我们', '大胆', '地', '对外开放', '积极开展', '同', '国外', '的', '经济', '技术', '和', '文化交流', '从', '国外', '引进', '资金', '技术', '和', '先进', '的', '管理', '经验', '为我所用', '加速', '了', '我国', '的', '现代化', '进程', '在', '八十年代', '我们', '为', '早日', '结束', '祖国', '的', '分离', '状态', '完成', '统一大业', '进行', '了', '不懈', '的', '努力', '并', '已', '取得', '明显', '成效', '根据', '一个', '国家', '两种制度', '的', '构想', '我国', '政府', '已经', '分别', '同', '英国', '葡萄牙政府', '达成', '解决', '香港', '澳门', '问题', '的', '协议', '由于', '我们', '党和政府', '做', '了', '大量', '工作', '并', '经过', '海峡两岸', '人民', '的', '推动', '大陆', '和', '台湾', '的', '关系', '也', '发生', '了', '令人欣慰', '的', '变化', '当然', '我们', '也', '清醒', '地', '认识', '到', '在', '八十年代', '我们', '也', '有', '过', '某些', '失误', '还有', '大量', '问题', '有待', '解决', '许多', '困难', '有待', '克服', '但是', '不管怎样', '八十年代', '毕竟', '是', '我们', '人民共和国', '史册', '上', '大放异彩', '影响', '深远', '的', '篇章', '亿万人民', '从', '亲身经验', '中', '深深', '体会', '到', '不', '走', '社会主义', '道路', '中国', '就', '没有', '前途', '不', '搞', '改革开放', '中国', '就', '没有', '希望', '坚持', '一个', '中心', '两个', '基本点', '建设', '有', '中国', '特色', '的', '社会主义', '是', '把', '我国', '建设', '成为', '富强', '民主', '文明', '的', '社会主义', '现代化', '国家', '的', '唯一', '正确', '的', '道路', '如果说', '八十年代', '的', '收获', '那么', '应该', '说', '这样', '的', '共识', '是', '最', '重要', '的', '收获', '九十年代', '摆在', '全党', '和', '全国', '人民', '面前', '的', '任务', '十分', '繁重', '十分艰巨', '我们', '要', '按照', '经济', '发展', '战略', '三部曲', '的', '要求', '在', '本世纪末', '实现', '第二个', '国民', '生产总值', '翻一番', '的', '目标', '这', '一步', '是', '关键', '的', '一步', '也', '是', '最', '困难', '的', '一步', '这', '一步', '取得胜利', '就', '为', '实现', '第三步', '目标', '打下', '了', '坚实', '的', '基础', '要', '实现', '九十年代', '的', '奋斗目标', '最', '重要', '的', '是', '保持', '国家', '的', '稳定', '社会', '的', '稳定', '中国', '人', '这么', '多', '底子', '这么', '薄', '没有', '安定团结', '的', '政治局面', '没有', '一个', '稳定', '的', '环境', '什么', '事情', '都', '干', '不成', '稳定', '压倒一切', '这', '就', '必须', '坚持不懈', '地', '进行', '坚持', '四项', '基本', '原则', '的', '教育', '坚持不懈', '地', '进行', '反对', '资产阶级', '自由化', '和', '反对', '和平演变', '的', '斗争', '如果', '允许', '资', '产', '阶级', '自由化', '的', '思潮', '泛滥', '肯定', '会', '动乱', '不止', '国无宁日', '国民经济', '再', '翻一番', '的', '目标', '就', '会', '化为泡影', '只要', '保持稳定', '即使', '是', '平平稳稳', '地', '发展', '几十年', '中国', '也', '会', '发生', '根本性', '的', '变化', '我们', '要', '继续', '进行', '政治体制', '的', '改革', '而', '政治体制', '的', '改革', '是', '有', '前提', '的', '就是', '必须', '坚持', '四项', '基本', '原则', '为', '各项', '建设', '和', '改革', '创造', '一个', '稳定', '的', '环境', '今年', '要', '稳定', '明年', '要', '稳定', '整', '个', '九十年代', '都', '要', '稳定', '下个世纪', '还要', '稳定', '中国', '的', '最高', '利益', '就是', '稳定', '这', '一点', '每', '一个', '希望', '祖国', '强盛', '的', '人', '都', '时刻', '不要', '忘记', '要', '实现', '九十年代', '的', '奋斗目标', '我们', '必须', '深刻', '吸取', '近几年来', '物质文明', '和', '精神文明', '建设', '一手', '硬', '一', '手软', '的', '教训', '在', '努力', '发展', '物质文明', '的', '同时', '切实', '抓好', '精神文明', '建设', '我们', '要', '紧密结合', '建设', '和', '改革开放', '的', '实际', '结合', '人', '们', '的', '思想', '实际', '大力加强', '和', '改进', '思想', '政治', '工作', '坚持不懈', '地向', '全国', '人民', '特别', '是', '青少年', '进行', '爱国主义', '集体主义', '社会主义', '共产主义', '和', '自力更生', '艰苦奋斗', '的', '教育', '以及', '革命', '传统', '教育', '大力提倡', '奉献精神', '要', '努力提高', '全', '民族', '的', '素质', '培养', '有', '理想', '有', '道德', '有', '文化', '有', '纪律', '的', '社会主义', '新人', '人', '的', '思想觉悟', '提高', '了', '人', '的', '综合', '素质', '提高', '了', '就', '会', '变成', '实现', '四化', '振兴中华', '的', '巨大', '物质力量', '要', '实现', '九十年代', '的', '奋斗目标', '必须', '认真总结', '历史', '经验', '特别', '要', '重视', '总结', '共产党', '执政', '和', '领导', '改革开放', '的', '经验', '加强', '党的建设', '我们', '党', '是', '领导', '全国', '人民', '建设', '有', '中国', '特色', '社会主义', '的', '坚强', '核心', '是', '保持', '中国', '政局', '长期', '稳定', '的', '决定', '力量', '我们', '党', '在', '总体', '上', '是', '好', '的', '是', '坚强', '的', '但是', '这些年来', '由于', '党的建设', '和', '思', '想', '政治', '工作', '的', '削弱', '党内', '思想', '作风', '纪律', '组织', '等', '方面', '都', '存在', '一些', '严重', '的', '问题', '必须', '痛下决心', '从严治党', '党', '的', '十三届', '四中全会', '以来', '在', '这方面', '已经', '做', '了', '许多', '工作', '取得', '了', '初步成效', '人民', '是', '满意', '的', '但是', '还要', '继续', '努力', '我们', '要', '坚持', '全心全意', '为', '人民', '服务', '的', '宗旨', '坚持', '群众路线', '改进', '领导作风', '恢复', '和', '发展', '党和人民', '群众', '的', '血肉', '联系', '只要', '党', '是', '坚定', '的', '团结', '的', '有', '战斗力', '的', '党', '与', '人民', '的', '团结', '是', '紧密', '的', '那', '就', '任何', '力量', '也', '不能', '阻挡', '我们', '前进', '我们', '国家', '原来', '的', '基础', '很', '薄弱', '要', '使', '中国', '这样', '的', '大国', '富强', '起来', '需要', '几代人', '的', '坚持不懈', '的', '努力', '要', '提倡', '艰苦奋斗', '勤俭建国', '勤俭', '办', '一切', '事业', '艰苦奋斗', '是', '我们', '党', '和', '我们', '民族', '的', '优良传统', '我们', '有', '中国共产党', '的', '领导', '有', '社会主义', '制度', '经过', '勤', '劳', '勇敢', '的', '中国', '人民', '的', '艰苦奋斗', '就', '一定', '能够', '实现', '我们', '既定', '的', '目的', '我们', '所', '做', '的', '一切', '都', '是', '为了', '我国', '经济', '的', '发展', '为了', '人民', '生活', '的', '改善', '经济', '是', '基础', '什么', '时候', '也', '不要', '忘记', '经济', '建设', '这个', '中心', '首先', '要', '稳定', '和', '发展', '农业', '这是', '经济', '稳定', '和', '社会', '稳定', '的', '基础', '在', '九十年代', '一定', '要', '把', '农业', '这个', '基础', '打', '好', '要', '大力发展', '能源', '交通', '原材料', '等', '基础', '工业', '和', '基础设施', '的', '建设', '要', '使', '产业结构', '更加', '合理', '经济', '工作', '的', '效益', '更加', '提高', '要', '在', '发展', '生产', '的', '基础', '上', '逐步', '改善', '人民', '的', '生活', '经济体制', '改革', '要', '完善', '要', '深化', '保证', '国民经济', '持续', '稳定', '协调', '地', '向前', '发展', '年', '是', '九十年代', '的', '第一年', '又', '是', '贯彻', '治理整顿', '深化改革', '方针', '的', '第二年', '做好', '这', '一年', '的', '工作', '将', '为', '实现', '九十年代', '的', '奋斗目标', '创造', '良', '好', '的', '开端', '当前', '我国', '经济', '处于', '一个', '新', '的', '调整', '时期', '我们', '必须', '振奋精神', '努力', '进取', '坚定不移', '地', '继续', '贯彻落实', '十三届', '四中全会', '和', '五中全会', '的', '各项', '决议', '继续', '贯彻执行', '进一步', '治理整顿', '和', '深化改革', '的', '方针', '继续', '实行', '对外开放', '的', '政策', '把', '各项', '工作', '做好', '在', '对外', '关系', '上要', '继续', '坚持', '独立自主', '的', '和平', '外交政策', '在', '和平共处', '五项原则', '的', '基础', '上', '和', '世界', '上', '一切', '国', '家', '发展', '友好合作', '关系', '毛泽东', '同志', '曾经', '提出', '中国', '应当', '对于', '人类', '有', '较大', '的', '贡献', '邓小平', '同志', '指出', '到', '本世纪末', '实现', '国民', '生产总值', '翻两番', '达到', '小康水平', '到', '那时', '按', '国家', '力量', '来说', '国民', '生产总值', '可以', '达到', '一万亿美元', '我们', '这个', '人口众多', '的', '中华民族', '就', '摆脱', '了', '贫困', '就', '会', '对', '人类', '有', '更', '多', '的', '贡献', '让', '我们', '全党', '和', '全国', '各族人民', '紧密', '团', '结在', '以', '江泽民', '同志', '为', '核心', '的', '党中央', '周围', '为', '实现', '这个', '宏伟', '的', '目标', '而', '努力奋斗', '江泽民', '总书记', '新年', '前夕', '接受', '记者', '采访', '谈', '国内外', '形势', '中国', '八十年代', '的', '三大', '任务', '取得', '很大', '成就', '九十年代', '继续', '建设', '中国', '特色', '的', '社会主义', '第', '版', '要闻']\n"
     ]
    }
   ],
   "source": [
    "# 删除包含 nan 值的行\n",
    "c3 = c3.dropna(subset=['tokens'])\n",
    "print(c3['tokens'].dtype)\n",
    "\n",
    "c3t = [t.split(\", \") for t in c3['tokens']] \n",
    "print(c3t[0])"
   ]
  },
  {
   "cell_type": "code",
   "execution_count": 13,
   "metadata": {},
   "outputs": [],
   "source": [
    "from collections import Counter\n",
    "from itertools import chain\n",
    "\n",
    "# 使用 itertools.chain 代替列表推导式，减少内存占用\n",
    "flat_c1t = chain.from_iterable(c1t)\n",
    "counter = Counter(flat_c1t)\n",
    "most_common = counter.most_common(20)"
   ]
  },
  {
   "cell_type": "code",
   "execution_count": 14,
   "metadata": {},
   "outputs": [
    {
     "data": {
      "text/plain": [
       "[('的', 8402886),\n",
       " ('了', 2143544),\n",
       " ('和', 1823170),\n",
       " ('在', 1805014),\n",
       " ('是', 1004719),\n",
       " ('人民', 667176),\n",
       " ('我们', 567215),\n",
       " ('有', 550074),\n",
       " ('中', 537750),\n",
       " ('地', 456523),\n",
       " ('革命', 454012),\n",
       " ('他们', 451699),\n",
       " ('就', 446570),\n",
       " ('上', 441622),\n",
       " ('他', 429872),\n",
       " ('也', 416217),\n",
       " ('对', 408081),\n",
       " ('为', 405105),\n",
       " ('生产', 392830),\n",
       " ('到', 392185)]"
      ]
     },
     "execution_count": 14,
     "metadata": {},
     "output_type": "execute_result"
    }
   ],
   "source": [
    "most_common "
   ]
  },
  {
   "cell_type": "code",
   "execution_count": 13,
   "metadata": {},
   "outputs": [
    {
     "data": {
      "image/png": "[encoded data removed]",
      "text/plain": [
       "<Figure size 1200x800 with 1 Axes>"
      ]
     },
     "metadata": {},
     "output_type": "display_data"
    }
   ],
   "source": [
    "import matplotlib.ticker as mticker\n",
    "\n",
    "# 设置中文字体（Windows 系统常用字体）\n",
    "rcParams['font.sans-serif'] = ['SimHei']  # 使用黑体\n",
    "rcParams['axes.unicode_minus'] = False   # 解决负号显示问题\n",
    "\n",
    "# 提取数据\n",
    "tokens, counts = zip(*most_common)\n",
    "\n",
    "# 绘制柱状图\n",
    "plt.figure(figsize=(12, 8))\n",
    "plt.bar(tokens, counts, color='skyblue')\n",
    "plt.xlabel('Tokens', fontsize=12)\n",
    "plt.ylabel('Counts', fontsize=12)\n",
    "plt.title('Top 20 Most Common Tokens', fontsize=14)\n",
    "plt.xticks(rotation=45, fontsize=10)\n",
    "\n",
    "# 设置纵坐标范围和格式\n",
    "plt.ylim(0, max(counts) + max(counts) * 0.1)  # 设置纵坐标范围，增加10%的空间\n",
    "plt.gca().yaxis.set_major_formatter(mticker.FuncFormatter(lambda x, _: f'{int(x):,}'))  # 显示完整数字并加千分位\n",
    "\n",
    "plt.tight_layout()\n",
    "plt.show()"
   ]
  },
  {
   "cell_type": "code",
   "execution_count": null,
   "metadata": {},
   "outputs": [
    {
     "name": "stdout",
     "output_type": "stream",
     "text": [
      "逻辑CPU数: 12\n"
     ]
    }
   ],
   "source": [
    "import os\n",
    "print(\"number of CPU:\", os.cpu_count()) "
   ]
  },
  {
   "cell_type": "markdown",
   "metadata": {},
   "source": [
    "# Estimate Skip-gram with negative sampling"
   ]
  },
  {
   "cell_type": "markdown",
   "metadata": {},
   "source": [
    "## c1t"
   ]
  },
  {
   "cell_type": "code",
   "execution_count": null,
   "metadata": {},
   "outputs": [
    {
     "name": "stdout",
     "output_type": "stream",
     "text": [
      "1. 构建词汇表...\n",
      "2. 开始训练（共 805075 个单词）\n"
     ]
    },
    {
     "data": {
      "application/vnd.jupyter.widget-view+json": {
       "model_id": "210d9b0e86884d7699c5f234a29f507f",
       "version_major": 2,
       "version_minor": 0
      },
      "text/plain": [
       "Training:   0%|          | 0/50 [00:00<?, ?epoch/s]"
      ]
     },
     "metadata": {},
     "output_type": "display_data"
    },
    {
     "data": {
      "text/plain": [
       "(2378300780, 6047001450)"
      ]
     },
     "execution_count": 3,
     "metadata": {},
     "output_type": "execute_result"
    }
   ],
   "source": [
    "from gensim.models import Word2Vec\n",
    "from gensim.models.callbacks import CallbackAny2Vec\n",
    "from tqdm.auto import tqdm\n",
    "\n",
    "class EpochProgress(CallbackAny2Vec):\n",
    "    def __init__(self, epochs):\n",
    "        self.epochs = epochs\n",
    "        self.pbar = tqdm(total=epochs, desc=\"Training\", unit=\"epoch\")\n",
    "\n",
    "    def on_epoch_end(self, model):\n",
    "        self.pbar.update(1)\n",
    "        self.pbar.set_postfix({\n",
    "            \"lr\": f\"{model.alpha:.1e}\",\n",
    "            \"neg/pos\": f\"{model.negative}:1\"  # 显示负采样比例\n",
    "        })\n",
    "\n",
    "    def on_train_end(self, model):\n",
    "        self.pbar.close()\n",
    "\n",
    "# 初始化模型\n",
    "print(\"1. 构建词汇表...\")\n",
    "c1t_word2vec = Word2Vec(\n",
    "    sentences=c1t,\n",
    "    vector_size=100,\n",
    "    min_count=1,\n",
    "    window=6,\n",
    "    negative=7,        # 设置负采样数为7\n",
    "    ns_exponent=0.6,    # 优化负采样分布\n",
    "    sample=1e-5,\n",
    "    workers=4          # 必须多线程\n",
    ")\n",
    "\n",
    "print(f\"2. 开始训练（共 {len(c1t_word2vec.wv)} 个单词）\")\n",
    "c1t_word2vec.train(\n",
    "    c1t,\n",
    "    total_examples=c1t_word2vec.corpus_count,\n",
    "    epochs=50,          # 总轮次\n",
    "    callbacks=[EpochProgress(50)],\n",
    "    compute_loss=True\n",
    ")"
   ]
  },
  {
   "cell_type": "markdown",
   "metadata": {},
   "source": [
    "### save word2vec model"
   ]
  },
  {
   "cell_type": "code",
   "execution_count": 9,
   "metadata": {},
   "outputs": [],
   "source": [
    "# 保存模型到本地文件\n",
    "c1t_word2vec.save(\"D:\\\\CODE\\\\data set for QTA\\\\c1t_word2vec.model\")"
   ]
  },
  {
   "cell_type": "code",
   "execution_count": 15,
   "metadata": {},
   "outputs": [
    {
     "name": "stdout",
     "output_type": "stream",
     "text": [
      "['的', '了', '和', '在', '是', '人民', '我们', '有', '中', '地']\n",
      "[ 4.188576   -2.3755822  -1.5388756   2.746306    2.6546469   2.1928177\n",
      "  2.8792496  -2.2089274   0.31717968  1.9156256  -2.2183063  -3.902294\n",
      " -2.4633317  -0.39159167  1.3507919  -3.1166263   0.3340354   2.5098674\n",
      "  2.5374458  -1.1268785  -0.4986599   0.30612093  0.8601566   1.951192\n",
      " -3.926479   -2.5156043  -0.61638856 -1.0594027  -0.7756711  -0.7432143\n",
      "  1.6407039   3.6784484  -0.9232217  -3.4092064  -1.1433977   0.19905788\n",
      " -0.82064784  0.3152943   0.48489553 -1.6406058   3.596051    0.45023364\n",
      " -1.6234171  -1.3021034   3.914791    1.9705296  -1.1117843  -0.6742797\n",
      "  1.6305215   3.542669   -0.19420119  1.1080418   0.85237163 -0.668188\n",
      "  2.491812   -5.1451964  -0.59194183  4.9117293  -2.2861078   3.1129906\n",
      "  0.13740498 -0.8001835  -0.41896805  2.3644025   1.1798898  -2.9378655\n",
      "  0.83381706 -0.7447663  -0.57034135 -1.3753804   0.97318166 -4.580415\n",
      "  0.49808192 -2.9577901  -2.2194386  -4.6464767   1.6152201  -0.7833324\n",
      " -2.3300881   1.0825114   2.9282467  -0.71767575  2.571965   -4.8210855\n",
      " -2.0746973   2.8158014   1.669664   -0.8984417  -5.1089873  -0.3173574\n",
      " -0.82369375 -3.11078    -1.4931194   2.4702134   3.2658792   1.8096342\n",
      "  2.9516883  -2.2359524  -2.5423548   0.39801297]\n"
     ]
    }
   ],
   "source": [
    "from gensim.models import Word2Vec\n",
    "\n",
    "# 加载保存的模型\n",
    "c1t_word2vec = Word2Vec.load(\"D:\\\\CODE\\\\data set for QTA\\\\c1t_word2vec.model\")\n",
    "\n",
    "# 使用模型\n",
    "# 示例：获取某个词的词向量\n",
    "# 查看模型中包含的所有词\n",
    "words = list(c1t_word2vec.wv.key_to_index.keys())\n",
    "\n",
    "# 打印前10个词\n",
    "print(words[:10])  # 如果词很多，可以只打印一部分\n",
    "\n",
    "vector = c1t_word2vec.wv['总书记']\n",
    "print(vector)"
   ]
  },
  {
   "cell_type": "markdown",
   "metadata": {},
   "source": [
    "# Same training processes for rest of periods"
   ]
  },
  {
   "cell_type": "markdown",
   "metadata": {},
   "source": [
    "# c2t"
   ]
  },
  {
   "cell_type": "code",
   "execution_count": null,
   "metadata": {},
   "outputs": [
    {
     "name": "stdout",
     "output_type": "stream",
     "text": [
      "1. 构建词汇表...\n",
      "2. 开始训练（共 573223 个单词）\n"
     ]
    },
    {
     "data": {
      "application/vnd.jupyter.widget-view+json": {
       "model_id": "430e74eceffb4fd1bc425f1c25c90174",
       "version_major": 2,
       "version_minor": 0
      },
      "text/plain": [
       "Training:   0%|          | 0/50 [00:00<?, ?epoch/s]"
      ]
     },
     "metadata": {},
     "output_type": "display_data"
    },
    {
     "data": {
      "text/plain": [
       "(1320238678, 3083706600)"
      ]
     },
     "execution_count": 6,
     "metadata": {},
     "output_type": "execute_result"
    }
   ],
   "source": [
    "from gensim.models import Word2Vec\n",
    "from gensim.models.callbacks import CallbackAny2Vec\n",
    "from tqdm.auto import tqdm\n",
    "\n",
    "class EpochProgress(CallbackAny2Vec):\n",
    "    def __init__(self, epochs):\n",
    "        self.epochs = epochs\n",
    "        self.pbar = tqdm(total=epochs, desc=\"Training\", unit=\"epoch\")\n",
    "\n",
    "    def on_epoch_end(self, model):\n",
    "        self.pbar.update(1)\n",
    "        self.pbar.set_postfix({\n",
    "            \"lr\": f\"{model.alpha:.1e}\",\n",
    "            \"neg/pos\": f\"{model.negative}:1\"  # 显示负采样比例\n",
    "        })\n",
    "\n",
    "    def on_train_end(self, model):\n",
    "        self.pbar.close()\n",
    "\n",
    "# 初始化模型\n",
    "print(\"1. 构建词汇表...\")\n",
    "c2t_word2vec = Word2Vec(\n",
    "    sentences=c2t,\n",
    "    vector_size=100,\n",
    "    min_count=1,\n",
    "    window=6,\n",
    "    negative=7,        # 设置负采样数为7\n",
    "    ns_exponent=0.6,    # 优化负采样分布\n",
    "    sample=1e-5,\n",
    "    workers=4          # 必须多线程\n",
    ")\n",
    "\n",
    "print(f\"2. 开始训练（共 {len(c2t_word2vec.wv)} 个单词）\")\n",
    "c2t_word2vec.train(\n",
    "    c2t,\n",
    "    total_examples=c2t_word2vec.corpus_count,\n",
    "    epochs=50,          # 总轮次\n",
    "    callbacks=[EpochProgress(50)],\n",
    "    compute_loss=True\n",
    ")"
   ]
  },
  {
   "cell_type": "code",
   "execution_count": null,
   "metadata": {},
   "outputs": [],
   "source": [
    "c2t_word2vec.save(\"D:\\\\CODE\\\\data set for QTA\\\\c2t_word2vec.model\")"
   ]
  },
  {
   "cell_type": "code",
   "execution_count": 16,
   "metadata": {},
   "outputs": [
    {
     "name": "stdout",
     "output_type": "stream",
     "text": [
      "['的', '了', '和', '在', '是', '有', '对', '要', '为', '他']\n",
      "[ 0.65682316  2.6524823   0.53934634 -0.35256064 -0.4396486   2.2014601\n",
      " -2.0104551  -0.02336832 -1.1206108  -2.472436    0.47323275  3.0045333\n",
      " -0.10432408  0.8664373   0.39967403  0.43739206  1.98428     1.3911756\n",
      " -1.1280959   0.49954987  0.13849221  0.5025907  -2.545425   -4.120068\n",
      " -1.049025    0.5260222   0.25444338  2.3190675  -2.035496    3.476086\n",
      "  6.1157637  -1.245136    0.83020854  0.527658   -0.6043027   1.910292\n",
      "  0.47315073 -0.4488731  -2.5061767  -0.35275674 -0.7346657   1.5973567\n",
      "  1.7543489   0.9158725  -0.01750252  1.7165451   0.65842813 -2.6385496\n",
      "  1.2453505   0.763006   -2.2675269   1.8734772   0.11778945 -0.62023723\n",
      " -3.014822    0.49771714  0.42955458 -0.9061504  -5.59428    -0.9178229\n",
      "  0.73467267 -2.5327704   2.7110817   3.961414   -3.655011   -1.9848248\n",
      "  1.1997178  -2.1711993  -2.0652723  -0.8428319   0.3278303   1.5184946\n",
      " -1.6150578  -0.7463012  -0.6338699  -2.2992437   1.4540428  -2.2791657\n",
      "  0.7485849   0.714131   -0.37856856  2.0689888   1.1135956   0.52130777\n",
      " -4.06012     1.7039579  -1.8356833   1.1146495  -0.8187844   2.3362527\n",
      " -0.42110923 -2.0459542   0.95362556 -1.2949016  -0.24263805  0.04869988\n",
      " -2.637713   -0.19146982 -0.84759784  0.09766006]\n"
     ]
    }
   ],
   "source": [
    "from gensim.models import Word2Vec\n",
    "\n",
    "# 加载保存的模型\n",
    "c2t_word2vec = Word2Vec.load(\"D:\\\\CODE\\\\data set for QTA\\\\c2t_word2vec.model\")\n",
    "\n",
    "# 使用模型\n",
    "# 示例：获取某个词的词向量\n",
    "# 查看模型中包含的所有词\n",
    "words = list(c2t_word2vec.wv.key_to_index.keys())\n",
    "\n",
    "# 打印前10个词\n",
    "print(words[:10])  # 如果词很多，可以只打印一部分\n",
    "\n",
    "vector = c2t_word2vec.wv['总书记']\n",
    "print(vector)"
   ]
  },
  {
   "cell_type": "markdown",
   "metadata": {},
   "source": [
    "# c3t"
   ]
  },
  {
   "cell_type": "code",
   "execution_count": null,
   "metadata": {},
   "outputs": [
    {
     "name": "stdout",
     "output_type": "stream",
     "text": [
      "1. 构建词汇表...\n",
      "2. 开始训练（共 521139 个单词）\n"
     ]
    },
    {
     "data": {
      "application/vnd.jupyter.widget-view+json": {
       "model_id": "ccda5ba4a43b4ff6bffaec04435b8a51",
       "version_major": 2,
       "version_minor": 0
      },
      "text/plain": [
       "Training:   0%|          | 0/50 [00:00<?, ?epoch/s]"
      ]
     },
     "metadata": {},
     "output_type": "display_data"
    },
    {
     "data": {
      "text/plain": [
       "(1230040903, 2892542150)"
      ]
     },
     "execution_count": 4,
     "metadata": {},
     "output_type": "execute_result"
    }
   ],
   "source": [
    "from gensim.models import Word2Vec\n",
    "from gensim.models.callbacks import CallbackAny2Vec\n",
    "from tqdm.auto import tqdm\n",
    "\n",
    "class EpochProgress(CallbackAny2Vec):\n",
    "    def __init__(self, epochs):\n",
    "        self.epochs = epochs\n",
    "        self.pbar = tqdm(total=epochs, desc=\"Training\", unit=\"epoch\")\n",
    "\n",
    "    def on_epoch_end(self, model):\n",
    "        self.pbar.update(1)\n",
    "        self.pbar.set_postfix({\n",
    "            \"lr\": f\"{model.alpha:.1e}\",\n",
    "            \"neg/pos\": f\"{model.negative}:1\"  # 显示负采样比例\n",
    "        })\n",
    "\n",
    "    def on_train_end(self, model):\n",
    "        self.pbar.close()\n",
    "\n",
    "# 初始化模型\n",
    "print(\"1. 构建词汇表...\")\n",
    "c3t_word2vec = Word2Vec(\n",
    "    sentences=c3t,\n",
    "    vector_size=100,\n",
    "    min_count=1,\n",
    "    window=6,\n",
    "    negative=7,        # 设置负采样数为7\n",
    "    ns_exponent=0.6,    # 优化负采样分布\n",
    "    sample=1e-5,\n",
    "    workers=4          # 必须多线程\n",
    ")\n",
    "\n",
    "print(f\"2. 开始训练（共 {len(c3t_word2vec.wv)} 个单词）\")\n",
    "c3t_word2vec.train(\n",
    "    c3t,\n",
    "    total_examples=c3t_word2vec.corpus_count,\n",
    "    epochs=50,          # 总轮次\n",
    "    callbacks=[EpochProgress(50)],\n",
    "    compute_loss=True\n",
    ")"
   ]
  },
  {
   "cell_type": "code",
   "execution_count": 5,
   "metadata": {},
   "outputs": [],
   "source": [
    "c3t_word2vec.save(\"D:\\\\CODE\\\\data set for QTA\\\\c3t_word2vec.model\")"
   ]
  },
  {
   "cell_type": "code",
   "execution_count": 6,
   "metadata": {},
   "outputs": [
    {
     "name": "stdout",
     "output_type": "stream",
     "text": [
      "['的', '和', '了', '在', '是', '为', '中国', '对', '月', '发展']\n",
      "[-1.1442868   0.91202176  0.34174585  0.20071031 -1.5111876  -1.4310302\n",
      " -2.2881873   2.6059377   0.1511261  -2.1283038  -1.6829363   1.2540278\n",
      " -0.574658   -3.813215   -0.26276    -1.3398294   0.06501584  1.5916195\n",
      "  0.783382    1.8758495   0.4643133   2.4230342   0.8679121  -2.9864666\n",
      "  0.4468415  -0.19630632 -2.9924798   0.2337459   0.9201149   1.9707444\n",
      "  1.2915028   2.8979192  -1.4679112  -0.688142    0.1760035  -0.13453002\n",
      " -3.0338867   0.3347095   0.52959603 -2.8483534   4.4683313  -0.492335\n",
      " -0.5242209   1.7193854  -0.19051309 -0.13591234  0.11538354  3.0770893\n",
      " -0.17876303  1.9164475   2.5314965  -0.62510884 -0.07753059 -2.0083342\n",
      "  5.050232    0.48283717  0.7796506   2.744219    0.6627841   0.5253215\n",
      " -2.3557365   0.99257666 -1.5417353  -3.6742077   0.24720912 -3.2326403\n",
      "  1.9541777  -1.2653373  -1.1620026   0.35269368 -4.708575   -1.3670363\n",
      " -2.142145   -0.1571868   1.7942446   2.2155564  -4.3184857  -1.2942683\n",
      " -2.1385787  -1.2537365  -1.3907835  -3.2207122   0.33056957 -0.024723\n",
      " -0.46258062 -0.8093561  -0.09567162 -2.7705636   1.3394703  -2.5877938\n",
      "  1.960097    1.0117425   0.39723244 -0.29811853 -2.1524825  -0.04849802\n",
      "  0.95516     0.8736916  -0.01580331 -0.06593162]\n"
     ]
    }
   ],
   "source": [
    "from gensim.models import Word2Vec\n",
    "\n",
    "# 加载保存的模型\n",
    "c3t_word2vec = Word2Vec.load(\"D:\\\\CODE\\\\data set for QTA\\\\c3t_word2vec.model\")\n",
    "\n",
    "# 使用模型\n",
    "# 示例：获取某个词的词向量\n",
    "# 查看模型中包含的所有词\n",
    "words = list(c3t_word2vec.wv.key_to_index.keys())\n",
    "\n",
    "# 打印前10个词\n",
    "print(words[:10])  # 如果词很多，可以只打印一部分\n",
    "\n",
    "vector = c3t_word2vec.wv['总书记']\n",
    "print(vector)"
   ]
  },
  {
   "cell_type": "code",
   "execution_count": null,
   "metadata": {},
   "outputs": [
    {
     "name": "stdout",
     "output_type": "stream",
     "text": [
      "平均每个词出现次数：54312.62\n",
      "低频词占比：26.02%\n"
     ]
    }
   ],
   "source": [
    "\n",
    "from collections import Counter\n",
    "word_counts = Counter(word for sent in c1[\"tokens\"] for word in sent)\n",
    "\n",
    "# 重要指标\n",
    "avg_freq = sum(word_counts.values()) / len(word_counts)  # 平均每个词出现次数\n",
    "low_freq_ratio = sum(1 for cnt in word_counts.values() if cnt < 5) / len(word_counts)  # 低频词占比\n",
    "print(f\"平均每个词出现次数：{avg_freq:.2f}\")\n",
    "print(f\"低频词占比：{low_freq_ratio:.2%}\")"
   ]
  },
  {
   "cell_type": "code",
   "execution_count": null,
   "metadata": {},
   "outputs": [],
   "source": [
    "\n",
    "\n",
    "\n",
    "from collections import Counter\n",
    "word_counts = Counter(word for sent in c1[\"tokens\"] for word in sent)\n",
    "\n",
    "# 重要指标\n",
    "avg_freq = sum(word_counts.values()) / len(word_counts)  # 平均每个词出现次数\n",
    "low_freq_ratio = sum(1 for cnt in word_counts.values() if cnt < 5) / len(word_counts)  # 低频词占比\n",
    "print(f\"平均每个词出现次数：{avg_freq:.2f}\")\n",
    "print(f\"低频词占比：{low_freq_ratio:.2%}\")"
   ]
  },
  {
   "cell_type": "code",
   "execution_count": 1,
   "metadata": {},
   "outputs": [
    {
     "name": "stdout",
     "output_type": "stream",
     "text": [
      "检测到 1 个 GPU：\n",
      "PhysicalDevice(name='/physical_device:GPU:0', device_type='GPU')\n"
     ]
    }
   ],
   "source": [
    "import tensorflow as tf\n",
    "\n",
    "# 检查是否有可用的 GPU\n",
    "gpus = tf.config.list_physical_devices('GPU')\n",
    "if gpus:\n",
    "    print(f\"检测到 {len(gpus)} 个 GPU：\")\n",
    "    for gpu in gpus:\n",
    "        print(gpu)\n",
    "else:\n",
    "    print(\"未检测到 GPU，请检查驱动或安装配置。\")"
   ]
  },
  {
   "cell_type": "markdown",
   "metadata": {},
   "source": [
    "# 2. simple visiual for word count for each periods and common word count\n",
    "\n"
   ]
  },
  {
   "cell_type": "code",
   "execution_count": 3,
   "metadata": {},
   "outputs": [],
   "source": [
    "import numpy as np\n",
    "from scipy.spatial import procrustes  # 正确导入位置\n",
    "from gensim.models import Word2Vec\n",
    "\n",
    "c1t_w2v = Word2Vec.load(\"D:\\\\CODE\\\\data set for QTA\\\\c1t_word2vec.model\")\n",
    "c2t_w2v = Word2Vec.load(\"D:\\\\CODE\\\\data set for QTA\\\\c2t_word2vec.model\")\n",
    "c3t_w2v = Word2Vec.load(\"D:\\\\CODE\\\\data set for QTA\\\\c3t_word2vec.model\")"
   ]
  },
  {
   "cell_type": "code",
   "execution_count": 4,
   "metadata": {},
   "outputs": [
    {
     "name": "stdout",
     "output_type": "stream",
     "text": [
      "c1t_w2v词汇量: 805075\n",
      "c2t_w2v词汇量: 573223\n",
      "c3t_w2v词汇量: 521139\n",
      "跨时期共有词汇量: 217612\n"
     ]
    }
   ],
   "source": [
    "# 验证模型是否成功加载\n",
    "print(\"c1t_w2v词汇量:\", len(c1t_w2v.wv.key_to_index))  # 1946-1976模型\n",
    "print(\"c2t_w2v词汇量:\", len(c2t_w2v.wv.key_to_index))  # 1977-1989模型\n",
    "print(\"c3t_w2v词汇量:\", len(c3t_w2v.wv.key_to_index))  # 1990-2003模型\n",
    "\n",
    "# 修正公共词汇提取\n",
    "common_words = set(c1t_w2v.wv.key_to_index) & set(c2t_w2v.wv.key_to_index) & set(c3t_w2v.wv.key_to_index)\n",
    "print(\"跨时期共有词汇量:\", len(common_words))  # 确保至少有1000+公共词"
   ]
  },
  {
   "cell_type": "code",
   "execution_count": null,
   "metadata": {},
   "outputs": [
    {
     "data": {
      "image/png": "[encoded data removed]",
      "text/plain": [
       "<Figure size 960x600 with 1 Axes>"
      ]
     },
     "metadata": {},
     "output_type": "display_data"
    }
   ],
   "source": [
    "import matplotlib.pyplot as plt\n",
    "\n",
    "# 数据\n",
    "models = [\"1946-1976 words\", \"1977-1989 words\", \"1990-2003 words\", \"common words\"]\n",
    "vocab_sizes = [\n",
    "    len(c1t_w2v.wv.key_to_index),  # 1946-1976模型词汇量\n",
    "    len(c2t_w2v.wv.key_to_index),  # 1977-1989模型词汇量\n",
    "    len(c3t_w2v.wv.key_to_index),  # 1990-2003模型词汇量\n",
    "    len(common_words)              # 跨时期共有词汇量\n",
    "]\n",
    "\n",
    "# 绘制柱状图\n",
    "plt.figure(figsize=(8, 5), dpi=120)\n",
    "plt.bar(models, vocab_sizes, color=[\"#1f77b4\", \"#ff7f0e\", \"#2ca02c\", \"#d62728\"], alpha=0.8)\n",
    "\n",
    "# 添加数据标签\n",
    "for i, size in enumerate(vocab_sizes):\n",
    "    plt.text(i, size + 20000, str(size), ha='center', fontsize=10)\n",
    "\n",
    "# 图表设置\n",
    "plt.title(\"Model vocabulary and intertemporal shared vocabulary\", fontsize=14, pad=15)\n",
    "plt.xlabel(\"Models and common words \", fontsize=12, labelpad=10)\n",
    "plt.ylabel(\"Word count\", fontsize=12, labelpad=10)\n",
    "plt.ylim(0, max(vocab_sizes) + 50000)  # 设置 y 轴范围\n",
    "plt.grid(axis='y', linestyle='--', alpha=0.6)\n",
    "plt.tight_layout()\n",
    "\n",
    "# show the plot\n",
    "plt.show()"
   ]
  }
 ],
 "metadata": {
  "kernelspec": {
   "display_name": "Python 3",
   "language": "python",
   "name": "python3"
  },
  "language_info": {
   "codemirror_mode": {
    "name": "ipython",
    "version": 3
   },
   "file_extension": ".py",
   "mimetype": "text/x-python",
   "name": "python",
   "nbconvert_exporter": "python",
   "pygments_lexer": "ipython3",
   "version": "3.10.11"
  }
 },
 "nbformat": 4,
 "nbformat_minor": 2
}
